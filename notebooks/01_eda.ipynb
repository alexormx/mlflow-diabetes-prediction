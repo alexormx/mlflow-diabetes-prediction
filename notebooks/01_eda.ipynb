{
 "cells": [
  {
   "cell_type": "code",
   "execution_count": null,
   "id": "0689a65e",
   "metadata": {},
   "outputs": [],
   "source": [
    "# 1. Imports y configuración\n",
    "import pandas as pd\n",
    "import matplotlib.pyplot as plt\n",
    "import seaborn as sns\n",
    "\n",
    "# Configurar estilo visual\n",
    "sns.set(style=\"whitegrid\")\n",
    "%matplotlib inline\n",
    "\n",
    "# 2. Cargar datos\n",
    "df = pd.read_csv(\"../data/diabetes.csv\")\n",
    "df.head()"
   ]
  },
  {
   "cell_type": "code",
   "execution_count": null,
   "id": "ee41b6cc",
   "metadata": {},
   "outputs": [],
   "source": [
    "# 3. Información general del dataset\n",
    "df.info()\n",
    "df.describe()\n",
    "df.isnull().sum()\n",
    "df.duplicated().sum()"
   ]
  },
  {
   "cell_type": "markdown",
   "id": "d90eff94",
   "metadata": {},
   "source": [
    "## Hallazgos iniciales\n",
    "\n",
    "- El dataset contiene 768 registros y 9 variables.\n",
    "- No hay valores nulos explícitos en ninguna columna.\n",
    "- Se detectan valores mínimos de cero en variables clínicas (`Glucose`, `BloodPressure`, `SkinThickness`, `Insulin`, `BMI`), lo cual es poco realista y será tratado como valor faltante en el preprocesamiento.\n"
   ]
  },
  {
   "cell_type": "code",
   "execution_count": null,
   "id": "98283f85",
   "metadata": {},
   "outputs": [],
   "source": [
    "# 4. Distribución de la variable objetivo\n",
    "sns.countplot(data=df, x=\"Outcome\")\n",
    "plt.title(\"Distribución de la variable objetivo (Diabetes)\")\n",
    "plt.xlabel(\"0 = No Diabetes, 1 = Diabetes\")\n",
    "plt.ylabel(\"Número de pacientes\")"
   ]
  },
  {
   "cell_type": "markdown",
   "id": "b6ad1f35",
   "metadata": {},
   "source": [
    "## Distribución de la variable objetivo\n",
    "\n",
    "- El dataset está desbalanceado: 500 negativos (no diabetes) y 268 positivos (diabetes).\n",
    "- Este desbalance será considerado durante el modelado, priorizando métricas como F1-score y recall.\n"
   ]
  },
  {
   "cell_type": "code",
   "execution_count": null,
   "id": "4e35f2ea",
   "metadata": {},
   "outputs": [],
   "source": [
    "# 5. Visualización de correlaciones\n",
    "plt.figure(figsize=(10,8))\n",
    "sns.heatmap(df.corr(), annot=True, cmap=\"coolwarm\", fmt=\".2f\")\n",
    "plt.title(\"Matriz de correlación entre variables\")"
   ]
  },
  {
   "cell_type": "markdown",
   "id": "50ee7caf",
   "metadata": {},
   "source": [
    "## Análisis de correlaciones\n",
    "\n",
    "- La glucosa (`Glucose`) es la variable más correlacionada con el diagnóstico de diabetes (`Outcome`), con un coeficiente de 0.47.\n",
    "- Otras variables como IMC (`BMI`), edad (`Age`) y embarazos (`Pregnancies`) también tienen correlaciones positivas con el diagnóstico, pero menores.\n",
    "- No se detectan pares de variables independientes con correlación mayor a 0.8, por lo que **no existe evidencia de multicolinealidad severa**. Esto es positivo, ya que permite que los modelos aprovechen toda la información de las variables sin redundancia significativa ni riesgos de inestabilidad en los coeficientes.\n"
   ]
  },
  {
   "cell_type": "code",
   "execution_count": null,
   "id": "13243b12",
   "metadata": {},
   "outputs": [],
   "source": [
    "# 6. Histogramas de las variables\n",
    "df.hist(figsize=(15,10), bins=20, edgecolor='black')\n",
    "plt.suptitle(\"Distribución de variables\", fontsize=16)"
   ]
  },
  {
   "cell_type": "code",
   "execution_count": null,
   "id": "959211ad",
   "metadata": {},
   "outputs": [],
   "source": [
    "# 7. Boxplots para detectar outliers\n",
    "features = df.columns[:-1]  # Excluye la columna 'Outcome'\n",
    "plt.figure(figsize=(15, 10))\n",
    "for i, feature in enumerate(features):\n",
    "    plt.subplot(3, 3, i+1)\n",
    "    sns.boxplot(x=df[feature])\n",
    "    plt.title(f\"Boxplot de {feature}\")\n",
    "plt.tight_layout()"
   ]
  },
  {
   "cell_type": "markdown",
   "id": "5d231983",
   "metadata": {},
   "source": [
    "## Outliers y valores extremos\n",
    "\n",
    "- Se identifican algunos valores atípicos en `Insulin` y `SkinThickness`.\n",
    "- Estos outliers serán revisados en el preprocesamiento para decidir si deben ser tratados o conservados.\n"
   ]
  },
  {
   "cell_type": "code",
   "execution_count": null,
   "id": "04b54e52",
   "metadata": {},
   "outputs": [],
   "source": [
    "# 8. Conclusiones iniciales\n",
    "print(\"✅ EDA completado. Se identificaron posibles outliers y la clase está desbalanceada.\")"
   ]
  },
  {
   "cell_type": "markdown",
   "id": "45e19345",
   "metadata": {},
   "source": [
    "## Conclusiones del análisis exploratorio\n",
    "\n",
    "- El dataset requiere preprocesamiento, especialmente para tratar valores faltantes implícitos (ceros) y posibles outliers.\n",
    "- El desbalance de clases y la importancia de ciertas variables deben ser considerados en la etapa de modelado."
   ]
  }
 ],
 "metadata": {
  "kernelspec": {
   "display_name": "Python (.venv - Diabetes)",
   "language": "python",
   "name": "diabetes_env"
  },
  "language_info": {
   "codemirror_mode": {
    "name": "ipython",
    "version": 3
   },
   "file_extension": ".py",
   "mimetype": "text/x-python",
   "name": "python",
   "nbconvert_exporter": "python",
   "pygments_lexer": "ipython3",
   "version": "3.8.10"
  }
 },
 "nbformat": 4,
 "nbformat_minor": 5
}
