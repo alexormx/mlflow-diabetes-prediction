{
 "cells": [
  {
   "cell_type": "markdown",
   "id": "061c652d",
   "metadata": {},
   "source": [
    "## 🧪 04 - Evaluación Final y Exportación\n",
    "\n",
    "Este notebook tiene como objetivo evaluar el desempeño final del modelo seleccionado sobre el conjunto de prueba y exportar resultados clave para su posterior uso o despliegue.\n"
   ]
  },
  {
   "cell_type": "markdown",
   "id": "61077b1a",
   "metadata": {},
   "source": [
    "### 1. 📦 Carga de datos y modelo\n",
    "\n",
    "Cargamos el conjunto de prueba (`X_test_scaled`, `y_test`) y el modelo final previamente entrenado y guardado."
   ]
  },
  {
   "cell_type": "code",
   "execution_count": 1,
   "id": "b46218a7",
   "metadata": {},
   "outputs": [
    {
     "ename": "FileNotFoundError",
     "evalue": "[Errno 2] No such file or directory: '../models/final_model.pkl'",
     "output_type": "error",
     "traceback": [
      "\u001b[0;31m---------------------------------------------------------------------------\u001b[0m",
      "\u001b[0;31mFileNotFoundError\u001b[0m                         Traceback (most recent call last)",
      "Cell \u001b[0;32mIn[1], line 8\u001b[0m\n\u001b[1;32m      5\u001b[0m y_test \u001b[38;5;241m=\u001b[39m joblib\u001b[38;5;241m.\u001b[39mload(\u001b[38;5;124m'\u001b[39m\u001b[38;5;124m../data/y_test.pkl\u001b[39m\u001b[38;5;124m'\u001b[39m)\n\u001b[1;32m      7\u001b[0m \u001b[38;5;66;03m# Cargar el modelo entrenado (ajusta el nombre si es diferente)\u001b[39;00m\n\u001b[0;32m----> 8\u001b[0m model \u001b[38;5;241m=\u001b[39m \u001b[43mjoblib\u001b[49m\u001b[38;5;241;43m.\u001b[39;49m\u001b[43mload\u001b[49m\u001b[43m(\u001b[49m\u001b[38;5;124;43m'\u001b[39;49m\u001b[38;5;124;43m../models/final_model.pkl\u001b[39;49m\u001b[38;5;124;43m'\u001b[39;49m\u001b[43m)\u001b[49m  \u001b[38;5;66;03m# ← cambia si usaste otro nombre o ubicación\u001b[39;00m\n\u001b[1;32m     10\u001b[0m \u001b[38;5;28mprint\u001b[39m(\u001b[38;5;124m\"\u001b[39m\u001b[38;5;124mDatos y modelo cargados exitosamente.\u001b[39m\u001b[38;5;124m\"\u001b[39m)\n",
      "File \u001b[0;32m~/ailab/diabetes_prediction/.venv/lib/python3.8/site-packages/joblib/numpy_pickle.py:650\u001b[0m, in \u001b[0;36mload\u001b[0;34m(filename, mmap_mode)\u001b[0m\n\u001b[1;32m    648\u001b[0m         obj \u001b[38;5;241m=\u001b[39m _unpickle(fobj)\n\u001b[1;32m    649\u001b[0m \u001b[38;5;28;01melse\u001b[39;00m:\n\u001b[0;32m--> 650\u001b[0m     \u001b[38;5;28;01mwith\u001b[39;00m \u001b[38;5;28;43mopen\u001b[39;49m\u001b[43m(\u001b[49m\u001b[43mfilename\u001b[49m\u001b[43m,\u001b[49m\u001b[43m \u001b[49m\u001b[38;5;124;43m'\u001b[39;49m\u001b[38;5;124;43mrb\u001b[39;49m\u001b[38;5;124;43m'\u001b[39;49m\u001b[43m)\u001b[49m \u001b[38;5;28;01mas\u001b[39;00m f:\n\u001b[1;32m    651\u001b[0m         \u001b[38;5;28;01mwith\u001b[39;00m _read_fileobject(f, filename, mmap_mode) \u001b[38;5;28;01mas\u001b[39;00m fobj:\n\u001b[1;32m    652\u001b[0m             \u001b[38;5;28;01mif\u001b[39;00m \u001b[38;5;28misinstance\u001b[39m(fobj, \u001b[38;5;28mstr\u001b[39m):\n\u001b[1;32m    653\u001b[0m                 \u001b[38;5;66;03m# if the returned file object is a string, this means we\u001b[39;00m\n\u001b[1;32m    654\u001b[0m                 \u001b[38;5;66;03m# try to load a pickle file generated with an version of\u001b[39;00m\n\u001b[1;32m    655\u001b[0m                 \u001b[38;5;66;03m# Joblib so we load it with joblib compatibility function.\u001b[39;00m\n",
      "\u001b[0;31mFileNotFoundError\u001b[0m: [Errno 2] No such file or directory: '../models/final_model.pkl'"
     ]
    }
   ],
   "source": [
    "import joblib\n",
    "\n",
    "# Cargar datasets de prueba\n",
    "X_test_scaled = joblib.load('../data/X_test_scaled.pkl')\n",
    "y_test = joblib.load('../data/y_test.pkl')\n",
    "\n",
    "# Cargar el modelo entrenado (ajusta el nombre si es diferente)\n",
    "model = joblib.load('../models/final_model.pkl')  # ← cambia si usaste otro nombre o ubicación\n",
    "\n",
    "print(\"Datos y modelo cargados exitosamente.\")"
   ]
  },
  {
   "cell_type": "markdown",
   "id": "9333b7ec",
   "metadata": {},
   "source": [
    "### 2. 🧪 Evaluación del modelo\n",
    "\n",
    "Evaluamos el rendimiento del modelo con las métricas más relevantes:\n",
    "\n",
    "- Accuracy\n",
    "- Precision, Recall, F1-score\n",
    "- Matriz de confusión\n",
    "- Curva ROC y AUC"
   ]
  },
  {
   "cell_type": "markdown",
   "id": "985424bd",
   "metadata": {},
   "source": [
    "### 3. 📊 Visualización de resultados\n",
    "\n",
    "Mostramos gráficas de evaluación como:\n",
    "\n",
    "- Matriz de confusión\n",
    "- Curva ROC\n",
    "- Importancia de características (si aplica)"
   ]
  },
  {
   "cell_type": "markdown",
   "id": "6fe6bc1a",
   "metadata": {},
   "source": [
    "### 4. 💾 Exportación\n",
    "\n",
    "Exportamos:\n",
    "\n",
    "- El modelo final (`.pkl` o `.joblib`)\n",
    "- Las métricas a un archivo `.json` o `.csv`\n",
    "- Las gráficas como imágenes (`.png` o `.svg`)"
   ]
  },
  {
   "cell_type": "markdown",
   "id": "68aaa007",
   "metadata": {},
   "source": [
    "### 5. ✅ Conclusiones finales\n",
    "\n",
    "Incluimos un breve resumen del desempeño del modelo y los próximos pasos sugeridos."
   ]
  }
 ],
 "metadata": {
  "kernelspec": {
   "display_name": "Python (.venv - Diabetes)",
   "language": "python",
   "name": "diabetes_env"
  },
  "language_info": {
   "codemirror_mode": {
    "name": "ipython",
    "version": 3
   },
   "file_extension": ".py",
   "mimetype": "text/x-python",
   "name": "python",
   "nbconvert_exporter": "python",
   "pygments_lexer": "ipython3",
   "version": "3.8.10"
  }
 },
 "nbformat": 4,
 "nbformat_minor": 5
}
